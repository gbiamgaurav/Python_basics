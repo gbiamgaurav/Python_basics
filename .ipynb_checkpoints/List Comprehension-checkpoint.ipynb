{
 "cells": [
  {
   "cell_type": "markdown",
   "id": "57254d7f",
   "metadata": {},
   "source": [
    "### List Comprehension"
   ]
  },
  {
   "cell_type": "code",
   "execution_count": 1,
   "id": "6cbc25e2",
   "metadata": {},
   "outputs": [],
   "source": [
    "lst1 = []\n",
    "\n",
    "def lst_square(lst):\n",
    "    for i in lst:\n",
    "        lst1.append(i*i)\n",
    "    return lst1    "
   ]
  },
  {
   "cell_type": "code",
   "execution_count": 2,
   "id": "2c3efcac",
   "metadata": {},
   "outputs": [
    {
     "data": {
      "text/plain": [
       "[1, 4, 9, 16, 25, 36, 49]"
      ]
     },
     "execution_count": 2,
     "metadata": {},
     "output_type": "execute_result"
    }
   ],
   "source": [
    "lst_square([1,2,3,4,5,6,7])"
   ]
  },
  {
   "cell_type": "code",
   "execution_count": 3,
   "id": "2dcae39a",
   "metadata": {},
   "outputs": [],
   "source": [
    "lst = [1,2,3,4,5,6,7]"
   ]
  },
  {
   "cell_type": "code",
   "execution_count": 5,
   "id": "8fd5518f",
   "metadata": {},
   "outputs": [],
   "source": [
    "lst1 = [i*i for i in lst]"
   ]
  },
  {
   "cell_type": "code",
   "execution_count": 6,
   "id": "3b424c59",
   "metadata": {},
   "outputs": [
    {
     "name": "stdout",
     "output_type": "stream",
     "text": [
      "[1, 4, 9, 16, 25, 36, 49]\n"
     ]
    }
   ],
   "source": [
    "print(lst1)"
   ]
  },
  {
   "cell_type": "code",
   "execution_count": 7,
   "id": "698db26b",
   "metadata": {},
   "outputs": [],
   "source": [
    "lst1 = [i*i for i in lst if i%2==0]"
   ]
  },
  {
   "cell_type": "code",
   "execution_count": 8,
   "id": "9bc76406",
   "metadata": {},
   "outputs": [
    {
     "name": "stdout",
     "output_type": "stream",
     "text": [
      "[4, 16, 36]\n"
     ]
    }
   ],
   "source": [
    "print(lst1)"
   ]
  },
  {
   "cell_type": "code",
   "execution_count": 9,
   "id": "24918d59",
   "metadata": {},
   "outputs": [],
   "source": [
    "lst2 = [i*i for i in lst if i%2!=0]"
   ]
  },
  {
   "cell_type": "code",
   "execution_count": 10,
   "id": "0e1c3eec",
   "metadata": {},
   "outputs": [
    {
     "name": "stdout",
     "output_type": "stream",
     "text": [
      "[1, 9, 25, 49]\n"
     ]
    }
   ],
   "source": [
    "print(lst2)"
   ]
  },
  {
   "cell_type": "code",
   "execution_count": null,
   "id": "41616cb4",
   "metadata": {},
   "outputs": [],
   "source": []
  }
 ],
 "metadata": {
  "kernelspec": {
   "display_name": "Python 3 (ipykernel)",
   "language": "python",
   "name": "python3"
  },
  "language_info": {
   "codemirror_mode": {
    "name": "ipython",
    "version": 3
   },
   "file_extension": ".py",
   "mimetype": "text/x-python",
   "name": "python",
   "nbconvert_exporter": "python",
   "pygments_lexer": "ipython3",
   "version": "3.9.12"
  }
 },
 "nbformat": 4,
 "nbformat_minor": 5
}
