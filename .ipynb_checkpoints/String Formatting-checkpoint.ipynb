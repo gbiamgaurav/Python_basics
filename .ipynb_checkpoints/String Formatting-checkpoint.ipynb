{
 "cells": [
  {
   "cell_type": "code",
   "execution_count": 1,
   "id": "1cfab3ac",
   "metadata": {},
   "outputs": [
    {
     "name": "stdout",
     "output_type": "stream",
     "text": [
      "hello everyone\n"
     ]
    }
   ],
   "source": [
    "print(\"hello everyone\")"
   ]
  },
  {
   "cell_type": "code",
   "execution_count": 2,
   "id": "bd029b36",
   "metadata": {},
   "outputs": [],
   "source": [
    "strs = 'hello everyone'"
   ]
  },
  {
   "cell_type": "code",
   "execution_count": 3,
   "id": "473596ba",
   "metadata": {},
   "outputs": [
    {
     "data": {
      "text/plain": [
       "'hello everyone'"
      ]
     },
     "execution_count": 3,
     "metadata": {},
     "output_type": "execute_result"
    }
   ],
   "source": [
    "strs"
   ]
  },
  {
   "cell_type": "code",
   "execution_count": 4,
   "id": "f6cedb7c",
   "metadata": {},
   "outputs": [],
   "source": [
    "def greeting(name):\n",
    "    return \"hello {}.Welcome to the community\".format(name)"
   ]
  },
  {
   "cell_type": "code",
   "execution_count": 5,
   "id": "072399f3",
   "metadata": {},
   "outputs": [
    {
     "data": {
      "text/plain": [
       "'hello Gaurav.Welcome to the community'"
      ]
     },
     "execution_count": 5,
     "metadata": {},
     "output_type": "execute_result"
    }
   ],
   "source": [
    "greeting('Gaurav')"
   ]
  },
  {
   "cell_type": "code",
   "execution_count": 6,
   "id": "14d0c861",
   "metadata": {},
   "outputs": [],
   "source": [
    "def welcome_email(name, age):\n",
    "    return \"welcome {}. your age is {}\".format(name, age)"
   ]
  },
  {
   "cell_type": "code",
   "execution_count": 7,
   "id": "c35db34e",
   "metadata": {},
   "outputs": [
    {
     "data": {
      "text/plain": [
       "'welcome Gaurav. your age is 26'"
      ]
     },
     "execution_count": 7,
     "metadata": {},
     "output_type": "execute_result"
    }
   ],
   "source": [
    "welcome_email('Gaurav', 26)"
   ]
  },
  {
   "cell_type": "code",
   "execution_count": 8,
   "id": "8ec78ffb",
   "metadata": {},
   "outputs": [],
   "source": [
    "def welcome_email(name, age):\n",
    "    return \"welcome {}. your age is {}\".format(age, name)"
   ]
  },
  {
   "cell_type": "code",
   "execution_count": 9,
   "id": "181bf965",
   "metadata": {},
   "outputs": [
    {
     "data": {
      "text/plain": [
       "'welcome 29. your age is Krish'"
      ]
     },
     "execution_count": 9,
     "metadata": {},
     "output_type": "execute_result"
    }
   ],
   "source": [
    "welcome_email('Krish', 29)"
   ]
  },
  {
   "cell_type": "code",
   "execution_count": 10,
   "id": "e5d1767e",
   "metadata": {},
   "outputs": [],
   "source": [
    "def welcome_email(name, age):\n",
    "    return \"welcome {name}. your age is {age}\".format(age=age, name=name)"
   ]
  },
  {
   "cell_type": "code",
   "execution_count": 11,
   "id": "d5a713de",
   "metadata": {},
   "outputs": [
    {
     "data": {
      "text/plain": [
       "'welcome krish. your age is 29'"
      ]
     },
     "execution_count": 11,
     "metadata": {},
     "output_type": "execute_result"
    }
   ],
   "source": [
    "welcome_email('krish', 29)"
   ]
  },
  {
   "cell_type": "code",
   "execution_count": 12,
   "id": "d31ff1c0",
   "metadata": {},
   "outputs": [],
   "source": [
    "def welcome_email(name, age):\n",
    "    return \"welcome {name}. your age is {age}\".format(age=name, name=age)"
   ]
  },
  {
   "cell_type": "code",
   "execution_count": 13,
   "id": "65093977",
   "metadata": {},
   "outputs": [
    {
     "data": {
      "text/plain": [
       "'welcome 29. your age is krish'"
      ]
     },
     "execution_count": 13,
     "metadata": {},
     "output_type": "execute_result"
    }
   ],
   "source": [
    "welcome_email('krish', 29)"
   ]
  },
  {
   "cell_type": "code",
   "execution_count": 14,
   "id": "6912e1c1",
   "metadata": {},
   "outputs": [],
   "source": [
    "def welcome_email(name, age):\n",
    "    return \"welcome {name1}. your age is {age1}\".format(age1=age, name1=name)"
   ]
  },
  {
   "cell_type": "code",
   "execution_count": 15,
   "id": "e557e020",
   "metadata": {},
   "outputs": [
    {
     "data": {
      "text/plain": [
       "'welcome Krish. your age is 29'"
      ]
     },
     "execution_count": 15,
     "metadata": {},
     "output_type": "execute_result"
    }
   ],
   "source": [
    "welcome_email('Krish', 29)"
   ]
  },
  {
   "cell_type": "code",
   "execution_count": null,
   "id": "55d9645a",
   "metadata": {},
   "outputs": [],
   "source": []
  }
 ],
 "metadata": {
  "kernelspec": {
   "display_name": "Python 3 (ipykernel)",
   "language": "python",
   "name": "python3"
  },
  "language_info": {
   "codemirror_mode": {
    "name": "ipython",
    "version": 3
   },
   "file_extension": ".py",
   "mimetype": "text/x-python",
   "name": "python",
   "nbconvert_exporter": "python",
   "pygments_lexer": "ipython3",
   "version": "3.9.12"
  }
 },
 "nbformat": 4,
 "nbformat_minor": 5
}
