{
 "cells": [
  {
   "cell_type": "markdown",
   "metadata": {},
   "source": [
    "### Python Exception Handling"
   ]
  },
  {
   "cell_type": "code",
   "execution_count": 1,
   "metadata": {},
   "outputs": [],
   "source": [
    "a = 10"
   ]
  },
  {
   "cell_type": "code",
   "execution_count": 3,
   "metadata": {},
   "outputs": [
    {
     "ename": "NameError",
     "evalue": "name 'b' is not defined",
     "output_type": "error",
     "traceback": [
      "\u001b[1;31m---------------------------------------------------------------------------\u001b[0m",
      "\u001b[1;31mNameError\u001b[0m                                 Traceback (most recent call last)",
      "\u001b[1;32md:\\Data Science\\exception_handling.ipynb Cell 3'\u001b[0m in \u001b[0;36m<cell line: 1>\u001b[1;34m()\u001b[0m\n\u001b[1;32m----> <a href='vscode-notebook-cell:/d%3A/Data%20Science/exception_handling.ipynb#ch0000004?line=0'>1</a>\u001b[0m a \u001b[39m=\u001b[39m b\n",
      "\u001b[1;31mNameError\u001b[0m: name 'b' is not defined"
     ]
    }
   ],
   "source": [
    "a = b"
   ]
  },
  {
   "cell_type": "code",
   "execution_count": 4,
   "metadata": {},
   "outputs": [
    {
     "name": "stdout",
     "output_type": "stream",
     "text": [
      "Some problem may have occurred\n"
     ]
    }
   ],
   "source": [
    "try:\n",
    "    ## code blaock where exception can occur\n",
    "    a=b\n",
    "except:\n",
    "    print(\"Some problem may have occurred\")   "
   ]
  },
  {
   "cell_type": "code",
   "execution_count": 7,
   "metadata": {},
   "outputs": [
    {
     "name": "stdout",
     "output_type": "stream",
     "text": [
      "name 'b' is not defined\n"
     ]
    }
   ],
   "source": [
    "try:\n",
    "    ## code blaock where exception can occur\n",
    "    a=b\n",
    "except Exception as ex:\n",
    "    print(ex) "
   ]
  },
  {
   "cell_type": "code",
   "execution_count": 8,
   "metadata": {},
   "outputs": [
    {
     "ename": "NameError",
     "evalue": "name 'b' is not defined",
     "output_type": "error",
     "traceback": [
      "\u001b[1;31m---------------------------------------------------------------------------\u001b[0m",
      "\u001b[1;31mNameError\u001b[0m                                 Traceback (most recent call last)",
      "\u001b[1;32md:\\Data Science\\exception_handling.ipynb Cell 6'\u001b[0m in \u001b[0;36m<cell line: 1>\u001b[1;34m()\u001b[0m\n\u001b[1;32m----> <a href='vscode-notebook-cell:/d%3A/Data%20Science/exception_handling.ipynb#ch0000007?line=0'>1</a>\u001b[0m a\u001b[39m=\u001b[39mb\n",
      "\u001b[1;31mNameError\u001b[0m: name 'b' is not defined"
     ]
    }
   ],
   "source": [
    "a=b"
   ]
  },
  {
   "cell_type": "code",
   "execution_count": 10,
   "metadata": {},
   "outputs": [
    {
     "name": "stdout",
     "output_type": "stream",
     "text": [
      "unsupported operand type(s) for +: 'int' and 'str'\n"
     ]
    }
   ],
   "source": [
    "try:\n",
    "    ## code blaock where exception can occur\n",
    "    a=1\n",
    "    b='s'\n",
    "    c=a+b\n",
    "except NameError as ex1:\n",
    "    print(\"the user have not defined the variable\")    \n",
    "except Exception as ex:\n",
    "    print(ex) "
   ]
  },
  {
   "cell_type": "code",
   "execution_count": 11,
   "metadata": {},
   "outputs": [
    {
     "name": "stdout",
     "output_type": "stream",
     "text": [
      "try to make the datatype similar\n"
     ]
    }
   ],
   "source": [
    "try:\n",
    "    ## code blaock where exception can occur\n",
    "    a=1\n",
    "    b='s'\n",
    "    c=a+b\n",
    "except TypeError as ex2:\n",
    "    print(\"try to make the datatype similar\")    \n",
    "except NameError as ex1:\n",
    "    print(\"the user have not defined the variable\")    \n",
    "except Exception as ex:\n",
    "    print(ex)"
   ]
  },
  {
   "cell_type": "code",
   "execution_count": 14,
   "metadata": {},
   "outputs": [
    {
     "name": "stdout",
     "output_type": "stream",
     "text": [
      "3.0\n",
      "48\n",
      "16\n"
     ]
    }
   ],
   "source": [
    "try:\n",
    "    ## code blaock where exception can occur\n",
    "    a=int(input(\"enter the number 1 \"))\n",
    "    b=int(input(\"enter the number 2 \"))\n",
    "    c=a/b\n",
    "    d=a*b\n",
    "    e=a+b\n",
    "    print(c)\n",
    "    print(d)\n",
    "    print(e)\n",
    "except TypeError as ex2:\n",
    "    print(\"try to make the datatype similar\")    \n",
    "except NameError as ex1:\n",
    "    print(\"the user have not defined the variable\")    \n",
    "except Exception as ex:\n",
    "    print(ex)"
   ]
  },
  {
   "cell_type": "code",
   "execution_count": 15,
   "metadata": {},
   "outputs": [
    {
     "name": "stdout",
     "output_type": "stream",
     "text": [
      "division by zero\n"
     ]
    }
   ],
   "source": [
    "try:\n",
    "    ## code blaock where exception can occur\n",
    "    a=int(input(\"enter the number 1 \"))\n",
    "    b=int(input(\"enter the number 2 \"))\n",
    "    c=a/b\n",
    "    d=a*b\n",
    "    e=a+b\n",
    "    print(c)\n",
    "    print(d)\n",
    "    print(e)\n",
    "except TypeError as ex2:\n",
    "    print(\"try to make the datatype similar\")    \n",
    "except NameError as ex1:\n",
    "    print(\"the user have not defined the variable\")    \n",
    "except Exception as ex:\n",
    "    print(ex)\n"
   ]
  },
  {
   "cell_type": "code",
   "execution_count": 16,
   "metadata": {},
   "outputs": [
    {
     "ename": "ZeroDivisionError",
     "evalue": "division by zero",
     "output_type": "error",
     "traceback": [
      "\u001b[1;31m---------------------------------------------------------------------------\u001b[0m",
      "\u001b[1;31mZeroDivisionError\u001b[0m                         Traceback (most recent call last)",
      "\u001b[1;32md:\\Data Science\\exception_handling.ipynb Cell 11'\u001b[0m in \u001b[0;36m<cell line: 1>\u001b[1;34m()\u001b[0m\n\u001b[1;32m----> <a href='vscode-notebook-cell:/d%3A/Data%20Science/exception_handling.ipynb#ch0000012?line=0'>1</a>\u001b[0m \u001b[39m12\u001b[39;49m\u001b[39m/\u001b[39;49m\u001b[39m0\u001b[39;49m\n",
      "\u001b[1;31mZeroDivisionError\u001b[0m: division by zero"
     ]
    }
   ],
   "source": [
    "12/0"
   ]
  },
  {
   "cell_type": "code",
   "execution_count": 20,
   "metadata": {},
   "outputs": [
    {
     "name": "stdout",
     "output_type": "stream",
     "text": [
      "Please provide number greater than zero\n"
     ]
    }
   ],
   "source": [
    "try:\n",
    "    ## code blaock where exception can occur\n",
    "    a=int(input(\"enter the number 1 \"))\n",
    "    b=int(input(\"enter the number 2 \"))\n",
    "    c=a/b\n",
    "    d=a*b\n",
    "    e=a+b\n",
    "    print(c)\n",
    "    print(d)\n",
    "    print(e)\n",
    "except TypeError as ex2:\n",
    "    print(\"try to make the datatype similar\")\n",
    "except ZeroDivisionError:\n",
    "    print(\"Please provide number greater than zero\")        \n",
    "except NameError as ex1:\n",
    "    print(\"the user have not defined the variable\")    \n",
    "except Exception as ex:\n",
    "    print(ex)"
   ]
  },
  {
   "cell_type": "code",
   "execution_count": 26,
   "metadata": {},
   "outputs": [
    {
     "name": "stdout",
     "output_type": "stream",
     "text": [
      "3.0\n",
      "48\n",
      "16\n",
      "All things is successful\n"
     ]
    }
   ],
   "source": [
    "## Try else\n",
    "\n",
    "try:\n",
    "    ## code blaock where exception can occur\n",
    "    a=int(input(\"enter the number 1 \"))\n",
    "    b=int(input(\"enter the number 2 \"))\n",
    "    c=a/b\n",
    "    d=a*b\n",
    "    e=a+b\n",
    "    \n",
    "except TypeError as ex2:\n",
    "    print(\"try to make the datatype similar\")    \n",
    "except NameError as ex1:\n",
    "    print(\"the user have not defined the variable\")\n",
    "except ZeroDivisionError:\n",
    "    print(\"Please provide number greater than zero\")     \n",
    "except Exception as ex:\n",
    "    print(ex)\n",
    "else:\n",
    "    print(c)\n",
    "    print(d)\n",
    "    print(e)\n",
    "    print(\"All things is successful\")\n"
   ]
  },
  {
   "cell_type": "code",
   "execution_count": 29,
   "metadata": {},
   "outputs": [
    {
     "name": "stdout",
     "output_type": "stream",
     "text": [
      "3.0\n",
      "48\n",
      "16\n"
     ]
    }
   ],
   "source": [
    "## try else\n",
    "\n",
    "try:\n",
    "    ## code blaock where exception can occur\n",
    "    a=int(input(\"enter the number 1 \"))\n",
    "    b=int(input(\"enter the number 2 \"))\n",
    "    c=a/b\n",
    "    d=a*b\n",
    "    e=a+b\n",
    "    \n",
    "except TypeError as ex2:\n",
    "    print(\"try to make the datatype similar\")    \n",
    "except NameError as ex1:\n",
    "    print(\"the user have not defined the variable\")\n",
    "except ZeroDivisionError:\n",
    "    print(\"Please provide number greater than zero\")     \n",
    "except Exception as ex:\n",
    "    print(ex)\n",
    "else:\n",
    "    print(c)\n",
    "    print(d)\n",
    "    print(e)"
   ]
  },
  {
   "cell_type": "code",
   "execution_count": 28,
   "metadata": {},
   "outputs": [
    {
     "name": "stdout",
     "output_type": "stream",
     "text": [
      "Please provide number greater than zero\n",
      "The Execution is done\n"
     ]
    }
   ],
   "source": [
    "## try else finally\n",
    "\n",
    "try:\n",
    "    ## code blaock where exception can occur\n",
    "    a=int(input(\"enter the number 1 \"))\n",
    "    b=int(input(\"enter the number 2 \"))\n",
    "    c=a/b\n",
    "    d=a*b\n",
    "    e=a+b\n",
    "    \n",
    "except TypeError as ex2:\n",
    "    print(\"try to make the datatype similar\")    \n",
    "except NameError as ex1:\n",
    "    print(\"the user have not defined the variable\")\n",
    "except ZeroDivisionError:\n",
    "    print(\"Please provide number greater than zero\")     \n",
    "except Exception as ex:\n",
    "    print(ex)\n",
    "else:\n",
    "    print(c)\n",
    "    print(d)\n",
    "    print(e)\n",
    "finally:\n",
    "    print(\"The Execution is done\")    "
   ]
  },
  {
   "cell_type": "markdown",
   "metadata": {},
   "source": [
    "### Custom Exception Handling"
   ]
  },
  {
   "cell_type": "code",
   "execution_count": 30,
   "metadata": {},
   "outputs": [],
   "source": [
    "class Error(Exception):\n",
    "    pass\n",
    "\n",
    "class dobException(Error):\n",
    "    pass\n"
   ]
  },
  {
   "cell_type": "code",
   "execution_count": 41,
   "metadata": {},
   "outputs": [
    {
     "name": "stdout",
     "output_type": "stream",
     "text": [
      "1988\n",
      "The year age is not within the range. You cannot apply for the Exams\n"
     ]
    }
   ],
   "source": [
    "year = int(input(\"Please enter the year of Birth\"))\n",
    "print(year)\n",
    "\n",
    "age = 2022 - year\n",
    "\n",
    "try:\n",
    "    if age<=30 & age>20:\n",
    "        print(\"the age is valid. You can apply for the Exams\")\n",
    "    else:\n",
    "        raise dobException\n",
    "except dobException:\n",
    "    print(\"The year age is not within the range. You cannot apply for the Exams\")        \n"
   ]
  },
  {
   "cell_type": "code",
   "execution_count": 40,
   "metadata": {},
   "outputs": [
    {
     "name": "stdout",
     "output_type": "stream",
     "text": [
      "1996\n",
      "the age is valid. You can apply for the Exams\n"
     ]
    }
   ],
   "source": [
    "year = int(input(\"Please enter the year of Birth\"))\n",
    "print(year)\n",
    "\n",
    "age = 2022 - year\n",
    "\n",
    "try:\n",
    "    if age<=30 & age>20:\n",
    "        print(\"the age is valid. You can apply for the Exams\")\n",
    "    else:\n",
    "        raise dobException\n",
    "except dobException:\n",
    "    print(\"The year age is not within the range. You cannot apply for the Exams\")"
   ]
  },
  {
   "cell_type": "code",
   "execution_count": null,
   "metadata": {},
   "outputs": [],
   "source": []
  }
 ],
 "metadata": {
  "kernelspec": {
   "display_name": "Python 3.10.4 64-bit",
   "language": "python",
   "name": "python3"
  },
  "language_info": {
   "codemirror_mode": {
    "name": "ipython",
    "version": 3
   },
   "file_extension": ".py",
   "mimetype": "text/x-python",
   "name": "python",
   "nbconvert_exporter": "python",
   "pygments_lexer": "ipython3",
   "version": "3.10.4"
  },
  "orig_nbformat": 4,
  "vscode": {
   "interpreter": {
    "hash": "fb4569285eef3a3450cb62085a5b1e0da4bce0af555edc33dcf29baf3acc1368"
   }
  }
 },
 "nbformat": 4,
 "nbformat_minor": 2
}
