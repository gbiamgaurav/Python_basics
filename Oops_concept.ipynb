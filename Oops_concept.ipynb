{
  "nbformat": 4,
  "nbformat_minor": 0,
  "metadata": {
    "colab": {
      "name": "Oops_concept.ipynb",
      "provenance": [],
      "authorship_tag": "ABX9TyNhrgXiM8rIlK+t3jMrzjYN",
      "include_colab_link": true
    },
    "kernelspec": {
      "name": "python3",
      "display_name": "Python 3"
    },
    "language_info": {
      "name": "python"
    }
  },
  "cells": [
    {
      "cell_type": "markdown",
      "metadata": {
        "id": "view-in-github",
        "colab_type": "text"
      },
      "source": [
        "<a href=\"https://colab.research.google.com/github/gbiamgaurav/Python_basics/blob/main/Oops_concept.ipynb\" target=\"_parent\"><img src=\"https://colab.research.google.com/assets/colab-badge.svg\" alt=\"Open In Colab\"/></a>"
      ]
    },
    {
      "cell_type": "markdown",
      "source": [
        "### Ex. 1 Write a Python Program to create a vehicle class with `max_speed` and `mileage` intance attributes"
      ],
      "metadata": {
        "id": "lDm6h0fcVaRU"
      }
    },
    {
      "cell_type": "code",
      "execution_count": 1,
      "metadata": {
        "id": "TFLFL03UUy5r"
      },
      "outputs": [],
      "source": [
        "class vehicle:\n",
        "\n",
        "  def __init__(self, max_speed, mileage):\n",
        "    self.max_speed = max_speed\n",
        "    self.mileage = mileage    "
      ]
    },
    {
      "cell_type": "code",
      "source": [
        "model = vehicle(240, 15)\n",
        "\n",
        "print(model.max_speed, model.mileage)"
      ],
      "metadata": {
        "colab": {
          "base_uri": "https://localhost:8080/"
        },
        "id": "J7L09jQ7V5ZQ",
        "outputId": "486a7b26-3935-499d-ac16-b10e6fe8cfb9"
      },
      "execution_count": 4,
      "outputs": [
        {
          "output_type": "stream",
          "name": "stdout",
          "text": [
            "240 15\n"
          ]
        }
      ]
    },
    {
      "cell_type": "markdown",
      "source": [
        "### Ex. 2 Create a Vehicle class without any variables and methods"
      ],
      "metadata": {
        "id": "WbH6z4QUcmsL"
      }
    },
    {
      "cell_type": "code",
      "source": [
        "class Vehicle:\n",
        "  pass"
      ],
      "metadata": {
        "id": "atxtWpOHWcVH"
      },
      "execution_count": 5,
      "outputs": []
    },
    {
      "cell_type": "markdown",
      "source": [
        "### Ex. 3 Create a child class `Bus` that will inherit all the varibales and methods of the Vehicle class"
      ],
      "metadata": {
        "id": "q_TsT9wpdCJ-"
      }
    },
    {
      "cell_type": "code",
      "source": [
        "class vehicle:\n",
        "\n",
        "  def __init__(self, name, max_speed, mileage):\n",
        "    self.name = name\n",
        "    self.max_speed = max_speed\n",
        "    self.mileage = mileage\n",
        "\n",
        "\n",
        "class Bus(vehicle):\n",
        "  pass    "
      ],
      "metadata": {
        "id": "vgMvv0T0cvmv"
      },
      "execution_count": 7,
      "outputs": []
    },
    {
      "cell_type": "code",
      "source": [
        "school_bus = Bus(\"Volvo\", 180, 10)\n",
        "print(\"Vehicle Name:\", school_bus.name, \"Top Speed:\", school_bus.max_speed, \"Mileage:\", school_bus.mileage)"
      ],
      "metadata": {
        "colab": {
          "base_uri": "https://localhost:8080/"
        },
        "id": "5UAvIVisdbeB",
        "outputId": "b3c7f4be-9597-415a-d8ae-5d0d90a10f0b"
      },
      "execution_count": 8,
      "outputs": [
        {
          "output_type": "stream",
          "name": "stdout",
          "text": [
            "Vehicle Name: Volvo Top Speed: 180 Mileage: 10\n"
          ]
        }
      ]
    },
    {
      "cell_type": "markdown",
      "source": [
        "### Ex. 4 Create a `Bus` class that inherits from the `Vehicle` class. Give the capacity argument of `Bus.seating_capacity()` a default value of 50"
      ],
      "metadata": {
        "id": "sAOViOPOd9x_"
      }
    },
    {
      "cell_type": "code",
      "source": [
        "class Vehicle:\n",
        "  def __init__(self, name, max_speed, mileage):\n",
        "    self.name = name\n",
        "    self.max_speed = max_speed\n",
        "    self.mileage = mileage\n",
        "\n",
        "\n",
        "  def seating_capacity(self, capacity):\n",
        "    return f\"The seating capacity of a {self.name} is {capacity} passengers\"\n",
        "\n",
        "\n",
        "class Bus(Vehicle):\n",
        "\n",
        "  # assign default value to capacity\n",
        "\n",
        "  def seating_capacity(self, capacity=50):\n",
        "    return super().seating_capacity(capacity=50)\n",
        "\n",
        "school_bus = Bus(\"School Volvo\", 180, 12)\n",
        "print(school_bus.seating_capacity())          "
      ],
      "metadata": {
        "colab": {
          "base_uri": "https://localhost:8080/"
        },
        "id": "mJQHrxZCd5dH",
        "outputId": "e3507071-7b58-4c7e-89c8-b23d93ba50d1"
      },
      "execution_count": 9,
      "outputs": [
        {
          "output_type": "stream",
          "name": "stdout",
          "text": [
            "The seating capacity of a School Volvo is 50 passengers\n"
          ]
        }
      ]
    },
    {
      "cell_type": "markdown",
      "source": [
        "### Ex.5 - Define a property that must have the same value for every class instance (object)"
      ],
      "metadata": {
        "id": "DdMYFte5fiQX"
      }
    },
    {
      "cell_type": "code",
      "source": [
        "class Vehicle:\n",
        "\n",
        "  color = \"White\"\n",
        "\n",
        "  def __init__(self, name, max_speed, mileage):\n",
        "    self.name = name\n",
        "    self.max_speed = max_speed\n",
        "    self.mileage = mileage\n",
        "\n",
        "class Bus(Vehicle):\n",
        "  pass\n",
        "\n",
        "class Car(Vehicle):\n",
        "  pass\n",
        "\n",
        "\n",
        "School_bus = Bus(\"Volvo\", 180, 12)\n",
        "print(School_bus.color, School_bus.name, School_bus.max_speed, School_bus.mileage)\n",
        "\n",
        "\n",
        "car = Car(\"Audi Q7\", 360, 8)\n",
        "print(car.color, car.name, car.max_speed, car.mileage)"
      ],
      "metadata": {
        "colab": {
          "base_uri": "https://localhost:8080/"
        },
        "id": "m6ItkANjfT7M",
        "outputId": "9a7608ec-8f97-4e04-e8d0-f1e30410919d"
      },
      "execution_count": 10,
      "outputs": [
        {
          "output_type": "stream",
          "name": "stdout",
          "text": [
            "White Volvo 180 12\n",
            "White Audi Q7 360 8\n"
          ]
        }
      ]
    },
    {
      "cell_type": "code",
      "source": [
        ""
      ],
      "metadata": {
        "id": "2bTcAtvagqd6"
      },
      "execution_count": null,
      "outputs": []
    }
  ]
}